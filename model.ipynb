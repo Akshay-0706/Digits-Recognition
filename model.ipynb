{
 "cells": [
  {
   "cell_type": "code",
   "execution_count": 3,
   "id": "18822564",
   "metadata": {},
   "outputs": [],
   "source": [
    "import tensorflow as tf\n",
    "import numpy as np\n",
    "import matplotlib.pyplot as plt\n",
    "\n",
    "import keras\n",
    "from keras.datasets import mnist\n",
    "from keras.models import Sequential\n",
    "from keras.layers import Dense, Conv2D, MaxPool2D, Flatten, Dropout\n",
    "from keras.callbacks import EarlyStopping, ModelCheckpoint"
   ]
  },
  {
   "cell_type": "markdown",
   "id": "8f47b273",
   "metadata": {},
   "source": [
    "# Getting MNIST Data "
   ]
  },
  {
   "cell_type": "code",
   "execution_count": 4,
   "id": "2dcf2f72",
   "metadata": {},
   "outputs": [
    {
     "name": "stdout",
     "output_type": "stream",
     "text": [
      "Training X: (60000, 28, 28) Training y: (60000,)\n",
      "Testing X: (10000, 28, 28) Testing y: (10000,)\n"
     ]
    }
   ],
   "source": [
    "(x_train, y_train), (x_test, y_test) = mnist.load_data()\n",
    "\n",
    "#exploring the data\n",
    "print('Training X:',x_train.shape,'Training y:',y_train.shape)\n",
    "print('Testing X:',x_test.shape,'Testing y:',y_test.shape)"
   ]
  },
  {
   "cell_type": "markdown",
   "id": "a1ac5c8e",
   "metadata": {},
   "source": [
    "## Frequency Distribution of values in variables"
   ]
  },
  {
   "cell_type": "code",
   "execution_count": 5,
   "id": "5ef84568",
   "metadata": {},
   "outputs": [
    {
     "name": "stdout",
     "output_type": "stream",
     "text": [
      "Distribution of digits in training set\n",
      "0 --> 5923\n",
      "1 --> 6742\n",
      "2 --> 5958\n",
      "3 --> 6131\n",
      "4 --> 5842\n",
      "5 --> 5421\n",
      "6 --> 5918\n",
      "7 --> 6265\n",
      "8 --> 5851\n",
      "9 --> 5949\n",
      "Distribution of digits in testing set\n",
      "0 --> 980\n",
      "1 --> 1135\n",
      "2 --> 1032\n",
      "3 --> 1010\n",
      "4 --> 982\n",
      "5 --> 892\n",
      "6 --> 958\n",
      "7 --> 1028\n",
      "8 --> 974\n",
      "9 --> 1009\n"
     ]
    }
   ],
   "source": [
    "print(\"Distribution of digits in training set\")\n",
    "for i in range(0,10):\n",
    "    print(i,'-->',np.count_nonzero(y_train==i))\n",
    "print(\"Distribution of digits in testing set\")\n",
    "for i in range(0,10):\n",
    "    print(i,'-->',np.count_nonzero(y_test==i))"
   ]
  },
  {
   "cell_type": "markdown",
   "id": "10bbee2a",
   "metadata": {},
   "source": [
    "## Preprocessing the images"
   ]
  },
  {
   "cell_type": "code",
   "execution_count": 6,
   "id": "8e6d2285",
   "metadata": {},
   "outputs": [],
   "source": [
    "# pre-process the images\n",
    "\n",
    "x_train = x_train.astype(np.float32) / 255\n",
    "x_test = x_test.astype(np.float32) / 255\n",
    "\n",
    "# reshape the dimensions of images to (28, 28, 1)\n",
    "x_train = np.expand_dims(x_train, -1)\n",
    "x_test = np.expand_dims(x_test, -1)\n",
    "\n",
    "\n",
    "# convert classes to one hot vector\n",
    "y_train = keras.utils.to_categorical(y_train)\n",
    "y_test = keras.utils.to_categorical(y_test)"
   ]
  },
  {
   "cell_type": "markdown",
   "id": "24028502",
   "metadata": {},
   "source": [
    "# Creating the Model"
   ]
  },
  {
   "cell_type": "code",
   "execution_count": 7,
   "id": "19162bb3",
   "metadata": {},
   "outputs": [
    {
     "name": "stdout",
     "output_type": "stream",
     "text": [
      "Model summary\n",
      "Model: \"sequential\"\n",
      "_________________________________________________________________\n",
      " Layer (type)                Output Shape              Param #   \n",
      "=================================================================\n",
      " conv2d (Conv2D)             (None, 26, 26, 32)        320       \n",
      "                                                                 \n",
      " max_pooling2d (MaxPooling2D  (None, 13, 13, 32)       0         \n",
      " )                                                               \n",
      "                                                                 \n",
      " conv2d_1 (Conv2D)           (None, 11, 11, 64)        18496     \n",
      "                                                                 \n",
      " max_pooling2d_1 (MaxPooling  (None, 5, 5, 64)         0         \n",
      " 2D)                                                             \n",
      "                                                                 \n",
      " flatten (Flatten)           (None, 1600)              0         \n",
      "                                                                 \n",
      " dropout (Dropout)           (None, 1600)              0         \n",
      "                                                                 \n",
      " dense (Dense)               (None, 10)                16010     \n",
      "                                                                 \n",
      "=================================================================\n",
      "Total params: 34,826\n",
      "Trainable params: 34,826\n",
      "Non-trainable params: 0\n",
      "_________________________________________________________________\n"
     ]
    }
   ],
   "source": [
    "# build model\n",
    "model = Sequential()\n",
    "\n",
    "model.add(Conv2D(32, (3, 3), input_shape=(28, 28, 1), activation='relu'))\n",
    "model.add(MaxPool2D(2, 2))\n",
    "\n",
    "model.add(Conv2D(64, (3, 3), activation='relu'))\n",
    "model.add(MaxPool2D(2, 2))\n",
    "\n",
    "model.add(Flatten())\n",
    "\n",
    "#to prevent overfitting\n",
    "model.add(Dropout(0.25))\n",
    "\n",
    "#classification\n",
    "model.add(Dense(10, activation=\"softmax\"))\n",
    "\n",
    "\n",
    "print(\"Model summary\")\n",
    "model.summary()"
   ]
  },
  {
   "cell_type": "code",
   "execution_count": 8,
   "id": "b1854a55",
   "metadata": {},
   "outputs": [],
   "source": [
    "# compile model\n",
    "model.compile(optimizer=\"adam\", loss=keras.losses.categorical_crossentropy, metrics=[\"accuracy\"])\n",
    "# earlystopping\n",
    "es = EarlyStopping(monitor=\"val_accuracy\",\n",
    "                   min_delta=0.01, patience=4, verbose=1)\n",
    "\n",
    "\n",
    "# model check point\n",
    "mc = ModelCheckpoint(\"bestmodel.h5\", monitor=\"val_accuracy\",\n",
    "                     verbose=1, save_best_only=True)\n",
    "\n",
    "\n",
    "# callbacks\n",
    "cb = [es, mc]"
   ]
  },
  {
   "cell_type": "markdown",
   "id": "70dc71ac",
   "metadata": {},
   "source": [
    "## Model Training"
   ]
  },
  {
   "cell_type": "code",
   "execution_count": 9,
   "id": "b7293610",
   "metadata": {
    "scrolled": true
   },
   "outputs": [
    {
     "name": "stdout",
     "output_type": "stream",
     "text": [
      "Epoch 1/5\n",
      "1312/1313 [============================>.] - ETA: 0s - loss: 0.2147 - accuracy: 0.9346\n",
      "Epoch 1: val_accuracy improved from -inf to 0.97733, saving model to mybestmodel.h5\n",
      "1313/1313 [==============================] - 22s 15ms/step - loss: 0.2146 - accuracy: 0.9346 - val_loss: 0.0751 - val_accuracy: 0.9773\n",
      "Epoch 2/5\n",
      "1310/1313 [============================>.] - ETA: 0s - loss: 0.0739 - accuracy: 0.9765\n",
      "Epoch 2: val_accuracy improved from 0.97733 to 0.98194, saving model to mybestmodel.h5\n",
      "1313/1313 [==============================] - 21s 16ms/step - loss: 0.0738 - accuracy: 0.9765 - val_loss: 0.0603 - val_accuracy: 0.9819\n",
      "Epoch 3/5\n",
      "1311/1313 [============================>.] - ETA: 0s - loss: 0.0561 - accuracy: 0.9829\n",
      "Epoch 3: val_accuracy improved from 0.98194 to 0.98461, saving model to mybestmodel.h5\n",
      "1313/1313 [==============================] - 18s 14ms/step - loss: 0.0561 - accuracy: 0.9829 - val_loss: 0.0517 - val_accuracy: 0.9846\n",
      "Epoch 4/5\n",
      "1309/1313 [============================>.] - ETA: 0s - loss: 0.0475 - accuracy: 0.9854\n",
      "Epoch 4: val_accuracy improved from 0.98461 to 0.98606, saving model to mybestmodel.h5\n",
      "1313/1313 [==============================] - 18s 14ms/step - loss: 0.0474 - accuracy: 0.9854 - val_loss: 0.0457 - val_accuracy: 0.9861\n",
      "Epoch 5/5\n",
      "1311/1313 [============================>.] - ETA: 0s - loss: 0.0366 - accuracy: 0.9886\n",
      "Epoch 5: val_accuracy improved from 0.98606 to 0.98650, saving model to mybestmodel.h5\n",
      "1313/1313 [==============================] - 18s 14ms/step - loss: 0.0367 - accuracy: 0.9885 - val_loss: 0.0455 - val_accuracy: 0.9865\n",
      "Epoch 5: early stopping\n"
     ]
    }
   ],
   "source": [
    "his = model.fit(x_train, y_train, epochs=5,validation_split=0.3, callbacks=cb)\n",
    "model.save(\"bestmodel.h5\")"
   ]
  },
  {
   "cell_type": "markdown",
   "id": "de4c6802",
   "metadata": {},
   "source": [
    "### Model Evaluation"
   ]
  },
  {
   "cell_type": "code",
   "execution_count": 10,
   "id": "aec70a6f",
   "metadata": {},
   "outputs": [
    {
     "data": {
      "image/png": "[encoded data removed]",
      "text/plain": [
       "<Figure size 640x480 with 1 Axes>"
      ]
     },
     "metadata": {},
     "output_type": "display_data"
    },
    {
     "data": {
      "image/png": "[encoded data removed]",
      "text/plain": [
       "<Figure size 640x480 with 1 Axes>"
      ]
     },
     "metadata": {},
     "output_type": "display_data"
    }
   ],
   "source": [
    "# Plot accuracy\n",
    "plt.plot(his.history[\"accuracy\"])\n",
    "plt.plot(his.history[\"val_accuracy\"])\n",
    "plt.title(\"Model accuracy\")\n",
    "plt.xlabel(\"Epoch\")\n",
    "plt.ylabel(\"Accuracy\")\n",
    "plt.legend([\"Train\", \"Validation_acc\"], loc=\"upper left\")\n",
    "plt.show()\n",
    "\n",
    "# Plot loss\n",
    "plt.plot(his.history[\"loss\"])\n",
    "plt.plot(his.history[\"val_loss\"])\n",
    "plt.title(\"Model loss\")\n",
    "plt.xlabel(\"Epoch\")\n",
    "plt.ylabel(\"Loss\")\n",
    "plt.legend([\"Train\", \"Validation_loss\"], loc=\"upper right\")\n",
    "plt.show()"
   ]
  },
  {
   "cell_type": "code",
   "execution_count": 11,
   "id": "8f0dabe4",
   "metadata": {},
   "outputs": [
    {
     "name": "stdout",
     "output_type": "stream",
     "text": [
      "313/313 [==============================] - 2s 7ms/step - loss: 0.0337 - accuracy: 0.9902\n",
      "The model loss is 0.033707618713378906\n",
      "The model accuracy is 0.9901999831199646\n"
     ]
    }
   ],
   "source": [
    "# evaluate model\n",
    "model=keras.models.load_model(\"bestmodel.h5\")\n",
    "score = model.evaluate(x_test, y_test)\n",
    "print(f\"The model loss is {score[0]}\")\n",
    "print(f\"The model accuracy is {score[1]}\")"
   ]
  },
  {
   "cell_type": "markdown",
   "id": "a8d4c045",
   "metadata": {},
   "source": [
    "## Confusion Matrix and Classification Report"
   ]
  },
  {
   "cell_type": "code",
   "execution_count": 23,
   "id": "fa15ea83",
   "metadata": {},
   "outputs": [
    {
     "name": "stdout",
     "output_type": "stream",
     "text": [
      "313/313 [==============================] - 2s 7ms/step\n",
      "[[ 978    0    0    0    0    0    0    1    1    0]\n",
      " [   1 1132    0    0    0    0    1    1    0    0]\n",
      " [   3    1 1022    0    2    0    0    3    1    0]\n",
      " [   0    0    2 1004    0    2    0    1    1    0]\n",
      " [   0    0    0    0  976    0    1    0    1    4]\n",
      " [   3    0    1    5    0  878    0    2    1    2]\n",
      " [  11    2    1    0    2    1  940    0    1    0]\n",
      " [   0    3    5    2    0    1    0 1015    1    1]\n",
      " [   4    0    1    1    1    1    0    1  963    2]\n",
      " [   3    3    0    0    5    2    0    2    0  994]]\n",
      "              precision    recall  f1-score   support\n",
      "\n",
      "           0       0.98      1.00      0.99       980\n",
      "           1       0.99      1.00      0.99      1135\n",
      "           2       0.99      0.99      0.99      1032\n",
      "           3       0.99      0.99      0.99      1010\n",
      "           4       0.99      0.99      0.99       982\n",
      "           5       0.99      0.98      0.99       892\n",
      "           6       1.00      0.98      0.99       958\n",
      "           7       0.99      0.99      0.99      1028\n",
      "           8       0.99      0.99      0.99       974\n",
      "           9       0.99      0.99      0.99      1009\n",
      "\n",
      "    accuracy                           0.99     10000\n",
      "   macro avg       0.99      0.99      0.99     10000\n",
      "weighted avg       0.99      0.99      0.99     10000\n",
      "\n"
     ]
    }
   ],
   "source": [
    "from sklearn import metrics\n",
    "y_pred=model.predict(x_test) \n",
    "y_pred=np.argmax(y_pred, axis=1)\n",
    "# y_test=np.argmax(y_test, axis=1)\n",
    "cm = metrics.confusion_matrix(y_test, y_pred)\n",
    "print(cm)\n",
    "\n",
    "cr= metrics.classification_report(y_test, y_pred)\n",
    "print(cr)"
   ]
  },
  {
   "cell_type": "code",
   "execution_count": null,
   "id": "f4328ef9",
   "metadata": {},
   "outputs": [],
   "source": []
  }
 ],
 "metadata": {
  "kernelspec": {
   "display_name": "Python 3 (ipykernel)",
   "language": "python",
   "name": "python3"
  },
  "language_info": {
   "codemirror_mode": {
    "name": "ipython",
    "version": 3
   },
   "file_extension": ".py",
   "mimetype": "text/x-python",
   "name": "python",
   "nbconvert_exporter": "python",
   "pygments_lexer": "ipython3",
   "version": "3.9.13"
  }
 },
 "nbformat": 4,
 "nbformat_minor": 5
}
